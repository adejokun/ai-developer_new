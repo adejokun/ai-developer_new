{
 "cells": [
  {
   "cell_type": "markdown",
   "metadata": {},
   "source": [
    "# Describe the business problem\n",
    "This notebook describes how to use CPLEX Modeling for Python to manage the production of pasta to meet demand with your resources.\n",
    "\n",
    "The model aims at minimizing the production cost for a number of products while satisfying customer demand.\n",
    "\n",
    "Each product can be produced either inside the company or outside, at a higher cost.\n",
    "The inside production is constrained by the company's resources, while outside production is considered unlimited.\n",
    "The model first declares the products and the resources. The data consists of the description of the products (the demand, the inside and outside costs, and the resource consumption) and the capacity of the various resources. The variables for this problem are the inside and outside production for each product."
   ]
  },
  {
   "cell_type": "markdown",
   "metadata": {},
   "source": [
    "# Describe the business problem - Consumer Products Distribution \n",
    "We will model distribution of consumer products. As a distributor, the profit is based on the margin and how much can be sold. There is a limited supply of products available at the supplier side and a given maximum demand from the clients.\n",
    "\n",
    "Also, the distributor has a limited number of trucks to ship these products.The model aims at minimizing the transportation cost for a number of products while satisfying customer demand and maximizing profit margin\n",
    "\n",
    "All this information will be supplied in the form of a set of input tables"
   ]
  },
  {
   "cell_type": "code",
   "execution_count": 39,
   "metadata": {},
   "outputs": [],
   "source": [
    "%reset -f"
   ]
  },
  {
   "cell_type": "code",
   "execution_count": 40,
   "metadata": {},
   "outputs": [],
   "source": [
    "import pandas as pd"
   ]
  },
  {
   "cell_type": "markdown",
   "metadata": {},
   "source": [
    "The demand table provides the demand for each product and customer combination"
   ]
  },
  {
   "cell_type": "code",
   "execution_count": null,
   "metadata": {},
   "outputs": [],
   "source": [
    "demand = inputs['Demand'].set_index(['product','customer'], verify_integrity=True).sort_index()\n",
    "inventory = inputs['Inventory'].set_index('product', verify_integrity=True)\n",
    "product_margin = inputs['Margin'].set_index('product', verify_integrity=True)\n",
    "trucks_df = inputs['Trucks'].set_index('truck_model', verify_integrity=True)\n",
    "params = inputs['Parameters'].set_index('param')"
   ]
  },
  {
   "cell_type": "markdown",
   "metadata": {},
   "source": [
    "# Step 1: Pre-process the input tables and generate intermediate data\n",
    "The input tables cannot directly be used to generate the optimization model. \n",
    "We will do some pre-processing to combine data to make it easier to generate the model. We typically call these tables 'intermediate' data.\n",
    "\n",
    "Join product_margin into demand. Because of matching index names, this can be done with a simple join.\n",
    "This will make it easy to express the margin objective.\n",
    "\n",
    "*Note: we could also have merged-in the inventory-level. But as an example, we'll use a different approach to illustrate how to use the alternative.*"
   ]
  },
  {
   "cell_type": "code",
   "execution_count": 46,
   "metadata": {},
   "outputs": [
    {
     "data": {
      "text/html": [
       "<div>\n",
       "<style scoped>\n",
       "    .dataframe tbody tr th:only-of-type {\n",
       "        vertical-align: middle;\n",
       "    }\n",
       "\n",
       "    .dataframe tbody tr th {\n",
       "        vertical-align: top;\n",
       "    }\n",
       "\n",
       "    .dataframe thead th {\n",
       "        text-align: right;\n",
       "    }\n",
       "</style>\n",
       "<table border=\"1\" class=\"dataframe\">\n",
       "  <thead>\n",
       "    <tr style=\"text-align: right;\">\n",
       "      <th></th>\n",
       "      <th></th>\n",
       "      <th>demand</th>\n",
       "      <th>margin</th>\n",
       "      <th>size</th>\n",
       "    </tr>\n",
       "    <tr>\n",
       "      <th>product</th>\n",
       "      <th>customer</th>\n",
       "      <th></th>\n",
       "      <th></th>\n",
       "      <th></th>\n",
       "    </tr>\n",
       "  </thead>\n",
       "  <tbody>\n",
       "    <tr>\n",
       "      <th rowspan=\"5\" valign=\"top\">household_supplies</th>\n",
       "      <th>Store01</th>\n",
       "      <td>600</td>\n",
       "      <td>0.12</td>\n",
       "      <td>1.0</td>\n",
       "    </tr>\n",
       "    <tr>\n",
       "      <th>Store02</th>\n",
       "      <td>900</td>\n",
       "      <td>0.12</td>\n",
       "      <td>1.0</td>\n",
       "    </tr>\n",
       "    <tr>\n",
       "      <th>Store03</th>\n",
       "      <td>700</td>\n",
       "      <td>0.12</td>\n",
       "      <td>1.0</td>\n",
       "    </tr>\n",
       "    <tr>\n",
       "      <th>Store04</th>\n",
       "      <td>600</td>\n",
       "      <td>0.12</td>\n",
       "      <td>1.0</td>\n",
       "    </tr>\n",
       "    <tr>\n",
       "      <th>Store05</th>\n",
       "      <td>800</td>\n",
       "      <td>0.12</td>\n",
       "      <td>1.0</td>\n",
       "    </tr>\n",
       "  </tbody>\n",
       "</table>\n",
       "</div>"
      ],
      "text/plain": [
       "                             demand  margin  size\n",
       "product            customer                      \n",
       "household_supplies Store01      600    0.12   1.0\n",
       "                   Store02      900    0.12   1.0\n",
       "                   Store03      700    0.12   1.0\n",
       "                   Store04      600    0.12   1.0\n",
       "                   Store05      800    0.12   1.0"
      ]
     },
     "execution_count": 46,
     "metadata": {},
     "output_type": "execute_result"
    }
   ],
   "source": [
    "demand_margin = demand.join(product_margin)\n",
    "demand_margin.head()"
   ]
  },
  {
   "cell_type": "code",
   "execution_count": 47,
   "metadata": {},
   "outputs": [
    {
     "data": {
      "text/html": [
       "<div>\n",
       "<style scoped>\n",
       "    .dataframe tbody tr th:only-of-type {\n",
       "        vertical-align: middle;\n",
       "    }\n",
       "\n",
       "    .dataframe tbody tr th {\n",
       "        vertical-align: top;\n",
       "    }\n",
       "\n",
       "    .dataframe thead th {\n",
       "        text-align: right;\n",
       "    }\n",
       "</style>\n",
       "<table border=\"1\" class=\"dataframe\">\n",
       "  <thead>\n",
       "    <tr style=\"text-align: right;\">\n",
       "      <th></th>\n",
       "      <th></th>\n",
       "      <th>truck_capacity</th>\n",
       "      <th>truck_cost</th>\n",
       "    </tr>\n",
       "    <tr>\n",
       "      <th>customer</th>\n",
       "      <th>truck_model</th>\n",
       "      <th></th>\n",
       "      <th></th>\n",
       "    </tr>\n",
       "  </thead>\n",
       "  <tbody>\n",
       "    <tr>\n",
       "      <th rowspan=\"2\" valign=\"top\">Store01</th>\n",
       "      <th>Straight_truck</th>\n",
       "      <td>10000</td>\n",
       "      <td>10</td>\n",
       "    </tr>\n",
       "    <tr>\n",
       "      <th>Dryvan_trailer53</th>\n",
       "      <td>25000</td>\n",
       "      <td>17</td>\n",
       "    </tr>\n",
       "    <tr>\n",
       "      <th rowspan=\"2\" valign=\"top\">Store02</th>\n",
       "      <th>Straight_truck</th>\n",
       "      <td>10000</td>\n",
       "      <td>10</td>\n",
       "    </tr>\n",
       "    <tr>\n",
       "      <th>Dryvan_trailer53</th>\n",
       "      <td>25000</td>\n",
       "      <td>17</td>\n",
       "    </tr>\n",
       "    <tr>\n",
       "      <th>Store03</th>\n",
       "      <th>Straight_truck</th>\n",
       "      <td>10000</td>\n",
       "      <td>10</td>\n",
       "    </tr>\n",
       "  </tbody>\n",
       "</table>\n",
       "</div>"
      ],
      "text/plain": [
       "                           truck_capacity  truck_cost\n",
       "customer truck_model                                 \n",
       "Store01  Straight_truck             10000          10\n",
       "         Dryvan_trailer53           25000          17\n",
       "Store02  Straight_truck             10000          10\n",
       "         Dryvan_trailer53           25000          17\n",
       "Store03  Straight_truck             10000          10"
      ]
     },
     "execution_count": 47,
     "metadata": {},
     "output_type": "execute_result"
    }
   ],
   "source": [
    "customers = demand.index.get_level_values('customer').unique()\n",
    "trucks = trucks_df.index\n",
    "idx = pd.MultiIndex.from_product([customers, trucks], names=['customer', 'truck_model'])\n",
    "customer_truck = pd.DataFrame(index=idx).join(trucks_df[['truck_capacity', 'truck_cost']])\n",
    "customer_truck.head()"
   ]
  },
  {
   "cell_type": "markdown",
   "metadata": {},
   "source": [
    "# Step 2: Create model\n",
    "\n",
    "Decision variables:\n",
    "* $xDeliver$ : for each customer demand, how much can I supply?\n",
    "* $xNumTrucks$: number of trucks of a particular model are assigned to a client?\n",
    "\n",
    "Objective:\n",
    "* Maximize profit = revenue - cost\n",
    "\n",
    "Constraints:\n",
    "* Limited inventory\n",
    "* Limited set of trucks\n",
    "* Limted truck size"
   ]
  },
  {
   "cell_type": "code",
   "execution_count": 48,
   "metadata": {},
   "outputs": [],
   "source": [
    "from docplex.mp.model import Model\n",
    "mdl = Model(name='CPG_Distribution')"
   ]
  },
  {
   "cell_type": "markdown",
   "metadata": {},
   "source": [
    "## Decision variables\n",
    "\n",
    "Decision variables:\n",
    "* $xDeliver$ : for each customer demand, how much can I supply?\n",
    "* $xNumTrucks$: number of trucks of a particular model are assigned to a client?\n",
    "\n",
    "We can use the demand as the upper-bound for the delivery dvar. This avoids creating an explicit constraint.\n",
    "Note the vector representation of the upper-bound (`ub`) input variable.\n",
    "\n",
    "Best practices:\n",
    "* Use a name for the dvar: will make reading the lp file and debugging the model easy. By ensuring that the df is indexed, docplex will use the index names for the dvar name.\n",
    "* Specify the lb and ub instead of using constraints.\n",
    "* Assigning the dvar as a column to the dataframe. This will make it easy to create constraints by manipulating the df. Also, after the solve, we can easily extract the solution into an output df."
   ]
  },
  {
   "cell_type": "markdown",
   "metadata": {},
   "source": [
    "### Amount to deliver\n",
    "$xDeliver$ : for each customer demand, how much can I supply?\n",
    "$$\n",
    "\\begin{align}\n",
    "xDeliver_{p,c} &&\\qquad \\forall  p \\in products, c \\in customers\\\\\n",
    "\\end{align}\n",
    "$$"
   ]
  },
  {
   "cell_type": "code",
   "execution_count": 49,
   "metadata": {},
   "outputs": [],
   "source": [
    "demand_margin['xDeliver'] = pd.Series(mdl.continuous_var_list(demand_margin.index, lb=0, ub=demand_margin.demand, name='xDeliver'), index = demand_margin.index)"
   ]
  },
  {
   "cell_type": "code",
   "execution_count": 50,
   "metadata": {},
   "outputs": [
    {
     "data": {
      "text/html": [
       "<div>\n",
       "<style scoped>\n",
       "    .dataframe tbody tr th:only-of-type {\n",
       "        vertical-align: middle;\n",
       "    }\n",
       "\n",
       "    .dataframe tbody tr th {\n",
       "        vertical-align: top;\n",
       "    }\n",
       "\n",
       "    .dataframe thead th {\n",
       "        text-align: right;\n",
       "    }\n",
       "</style>\n",
       "<table border=\"1\" class=\"dataframe\">\n",
       "  <thead>\n",
       "    <tr style=\"text-align: right;\">\n",
       "      <th></th>\n",
       "      <th></th>\n",
       "      <th>demand</th>\n",
       "      <th>margin</th>\n",
       "      <th>size</th>\n",
       "      <th>xDeliver</th>\n",
       "    </tr>\n",
       "    <tr>\n",
       "      <th>product</th>\n",
       "      <th>customer</th>\n",
       "      <th></th>\n",
       "      <th></th>\n",
       "      <th></th>\n",
       "      <th></th>\n",
       "    </tr>\n",
       "  </thead>\n",
       "  <tbody>\n",
       "    <tr>\n",
       "      <th rowspan=\"5\" valign=\"top\">household_supplies</th>\n",
       "      <th>Store01</th>\n",
       "      <td>600</td>\n",
       "      <td>0.12</td>\n",
       "      <td>1.0</td>\n",
       "      <td>xDeliver_household_supplies_Store01</td>\n",
       "    </tr>\n",
       "    <tr>\n",
       "      <th>Store02</th>\n",
       "      <td>900</td>\n",
       "      <td>0.12</td>\n",
       "      <td>1.0</td>\n",
       "      <td>xDeliver_household_supplies_Store02</td>\n",
       "    </tr>\n",
       "    <tr>\n",
       "      <th>Store03</th>\n",
       "      <td>700</td>\n",
       "      <td>0.12</td>\n",
       "      <td>1.0</td>\n",
       "      <td>xDeliver_household_supplies_Store03</td>\n",
       "    </tr>\n",
       "    <tr>\n",
       "      <th>Store04</th>\n",
       "      <td>600</td>\n",
       "      <td>0.12</td>\n",
       "      <td>1.0</td>\n",
       "      <td>xDeliver_household_supplies_Store04</td>\n",
       "    </tr>\n",
       "    <tr>\n",
       "      <th>Store05</th>\n",
       "      <td>800</td>\n",
       "      <td>0.12</td>\n",
       "      <td>1.0</td>\n",
       "      <td>xDeliver_household_supplies_Store05</td>\n",
       "    </tr>\n",
       "  </tbody>\n",
       "</table>\n",
       "</div>"
      ],
      "text/plain": [
       "                             demand  margin  size  \\\n",
       "product            customer                         \n",
       "household_supplies Store01      600    0.12   1.0   \n",
       "                   Store02      900    0.12   1.0   \n",
       "                   Store03      700    0.12   1.0   \n",
       "                   Store04      600    0.12   1.0   \n",
       "                   Store05      800    0.12   1.0   \n",
       "\n",
       "                                                        xDeliver  \n",
       "product            customer                                       \n",
       "household_supplies Store01   xDeliver_household_supplies_Store01  \n",
       "                   Store02   xDeliver_household_supplies_Store02  \n",
       "                   Store03   xDeliver_household_supplies_Store03  \n",
       "                   Store04   xDeliver_household_supplies_Store04  \n",
       "                   Store05   xDeliver_household_supplies_Store05  "
      ]
     },
     "execution_count": 50,
     "metadata": {},
     "output_type": "execute_result"
    }
   ],
   "source": [
    "demand_margin.head()"
   ]
  },
  {
   "cell_type": "markdown",
   "metadata": {},
   "source": [
    "### Amount of trucks assigned to client\n",
    "$xNumTrucks$: number of trucks of a particular model are assigned to a client\n",
    "$$\n",
    "\\begin{align}\n",
    "xNumTrucks_{c, t} &&\\qquad \\forall  c \\in customers, t \\in trucks\\\\\n",
    "\\end{align}\n",
    "$$"
   ]
  },
  {
   "cell_type": "code",
   "execution_count": 51,
   "metadata": {},
   "outputs": [
    {
     "data": {
      "text/html": [
       "<div>\n",
       "<style scoped>\n",
       "    .dataframe tbody tr th:only-of-type {\n",
       "        vertical-align: middle;\n",
       "    }\n",
       "\n",
       "    .dataframe tbody tr th {\n",
       "        vertical-align: top;\n",
       "    }\n",
       "\n",
       "    .dataframe thead th {\n",
       "        text-align: right;\n",
       "    }\n",
       "</style>\n",
       "<table border=\"1\" class=\"dataframe\">\n",
       "  <thead>\n",
       "    <tr style=\"text-align: right;\">\n",
       "      <th></th>\n",
       "      <th></th>\n",
       "      <th>truck_capacity</th>\n",
       "      <th>truck_cost</th>\n",
       "      <th>xNumTrucks</th>\n",
       "    </tr>\n",
       "    <tr>\n",
       "      <th>customer</th>\n",
       "      <th>truck_model</th>\n",
       "      <th></th>\n",
       "      <th></th>\n",
       "      <th></th>\n",
       "    </tr>\n",
       "  </thead>\n",
       "  <tbody>\n",
       "    <tr>\n",
       "      <th rowspan=\"2\" valign=\"top\">Store01</th>\n",
       "      <th>Straight_truck</th>\n",
       "      <td>10000</td>\n",
       "      <td>10</td>\n",
       "      <td>xNumTrucks_Store01_Straight_truck</td>\n",
       "    </tr>\n",
       "    <tr>\n",
       "      <th>Dryvan_trailer53</th>\n",
       "      <td>25000</td>\n",
       "      <td>17</td>\n",
       "      <td>xNumTrucks_Store01_Dryvan_trailer53</td>\n",
       "    </tr>\n",
       "    <tr>\n",
       "      <th rowspan=\"2\" valign=\"top\">Store02</th>\n",
       "      <th>Straight_truck</th>\n",
       "      <td>10000</td>\n",
       "      <td>10</td>\n",
       "      <td>xNumTrucks_Store02_Straight_truck</td>\n",
       "    </tr>\n",
       "    <tr>\n",
       "      <th>Dryvan_trailer53</th>\n",
       "      <td>25000</td>\n",
       "      <td>17</td>\n",
       "      <td>xNumTrucks_Store02_Dryvan_trailer53</td>\n",
       "    </tr>\n",
       "    <tr>\n",
       "      <th>Store03</th>\n",
       "      <th>Straight_truck</th>\n",
       "      <td>10000</td>\n",
       "      <td>10</td>\n",
       "      <td>xNumTrucks_Store03_Straight_truck</td>\n",
       "    </tr>\n",
       "  </tbody>\n",
       "</table>\n",
       "</div>"
      ],
      "text/plain": [
       "                           truck_capacity  truck_cost  \\\n",
       "customer truck_model                                    \n",
       "Store01  Straight_truck             10000          10   \n",
       "         Dryvan_trailer53           25000          17   \n",
       "Store02  Straight_truck             10000          10   \n",
       "         Dryvan_trailer53           25000          17   \n",
       "Store03  Straight_truck             10000          10   \n",
       "\n",
       "                                                    xNumTrucks  \n",
       "customer truck_model                                            \n",
       "Store01  Straight_truck      xNumTrucks_Store01_Straight_truck  \n",
       "         Dryvan_trailer53  xNumTrucks_Store01_Dryvan_trailer53  \n",
       "Store02  Straight_truck      xNumTrucks_Store02_Straight_truck  \n",
       "         Dryvan_trailer53  xNumTrucks_Store02_Dryvan_trailer53  \n",
       "Store03  Straight_truck      xNumTrucks_Store03_Straight_truck  "
      ]
     },
     "execution_count": 51,
     "metadata": {},
     "output_type": "execute_result"
    }
   ],
   "source": [
    "customer_truck['xNumTrucks'] = pd.Series(mdl.integer_var_list(customer_truck.index, lb=0, name='xNumTrucks'), index = customer_truck.index)\n",
    "customer_truck.head()"
   ]
  },
  {
   "cell_type": "markdown",
   "metadata": {},
   "source": [
    "## Step 3: Create KPIs and Objective\n",
    "Best practice is to define individual cost or benefit expressions as 'KPIs'. This allows the CPLEX model to report these KPIs seperately.\n",
    "\n",
    "### Margin\n",
    "$$\n",
    "\\begin{align}\n",
    "margin &= \\sum\\limits_{\\forall p, c} xDeliver_{p,c} * margin_p &&\\qquad \\text{with }  p \\in product, c \\in clients\\\\\n",
    "\\end{align}\n",
    "$$"
   ]
  },
  {
   "cell_type": "code",
   "execution_count": 52,
   "metadata": {},
   "outputs": [
    {
     "data": {
      "text/plain": [
       "DecisionKPI(name=Margin,expr=0.120xDeliver_household_supplies_Store01+0.120xDeliver_household..)"
      ]
     },
     "execution_count": 52,
     "metadata": {},
     "output_type": "execute_result"
    }
   ],
   "source": [
    "margin_kpi = mdl.sum(demand_margin.xDeliver * demand_margin.margin)\n",
    "mdl.add_kpi(margin_kpi, \"Margin\")"
   ]
  },
  {
   "cell_type": "markdown",
   "metadata": {},
   "source": [
    "### Transportation cost\n",
    "$$\n",
    "\\begin{align}\n",
    "transportation &= \\sum\\limits_{\\forall t} xNumTrucks_{c,t} * cost_t &&\\qquad \\text{with } c \\in customers, t \\in trucks\\\\\n",
    "\\end{align}\n",
    "$$"
   ]
  },
  {
   "cell_type": "code",
   "execution_count": 53,
   "metadata": {},
   "outputs": [
    {
     "data": {
      "text/plain": [
       "DecisionKPI(name=Transportation,expr=10xNumTrucks_Store01_Straight_truck+17xNumTrucks_Store01_Dryvan_..)"
      ]
     },
     "execution_count": 53,
     "metadata": {},
     "output_type": "execute_result"
    }
   ],
   "source": [
    "transportation_kpi = mdl.sum(customer_truck.xNumTrucks * customer_truck.truck_cost)\n",
    "mdl.add_kpi(transportation_kpi, \"Transportation\")"
   ]
  },
  {
   "cell_type": "markdown",
   "metadata": {},
   "source": [
    "### Objective"
   ]
  },
  {
   "cell_type": "code",
   "execution_count": 54,
   "metadata": {},
   "outputs": [],
   "source": [
    "mdl.maximize(margin_kpi - 0.1* transportation_kpi)"
   ]
  },
  {
   "cell_type": "markdown",
   "metadata": {},
   "source": [
    "## Step 4: Setup Constraints\n",
    "\n",
    "#### Inventory constraint\n",
    "\n",
    "$$\n",
    "\\begin{align}\n",
    "\\sum\\limits_{\\forall c} xDeliver_{p,c}  <= inventory_p \\quad \\forall p \\in products \\text{, with } c \\in customers_p\\\\\n",
    "\\end{align}\n",
    "$$"
   ]
  },
  {
   "cell_type": "code",
   "execution_count": 55,
   "metadata": {},
   "outputs": [],
   "source": [
    "for product, group in demand_margin.groupby('product'):\n",
    "    product_inventory = inventory.at[product, 'inventory']  # Use inventory as lookup table\n",
    "    mdl.add_constraint(mdl.sum(group.xDeliver) <= product_inventory, 'InventoryC_{}'.format(product))"
   ]
  },
  {
   "cell_type": "markdown",
   "metadata": {},
   "source": [
    "#### Truck capacity constraint\n",
    "\n",
    "$$\n",
    "\\begin{align}\n",
    "\\sum\\limits_{\\forall p} xDeliver_{p,c} * size_p<=  \\sum\\limits_{\\forall t} xNumTrucks_{c,t} * truckCapacity_t \\quad \\forall c \\in customers \\text{, with } p \\in products, t \\in truckModels\\\\\n",
    "\\end{align}\n",
    "$$"
   ]
  },
  {
   "cell_type": "code",
   "execution_count": 56,
   "metadata": {},
   "outputs": [],
   "source": [
    "for customer, group in demand_margin.groupby('customer'):\n",
    "    customer_trucks = customer_truck.query(\"customer == @customer\")\n",
    "    truck_capacity = mdl.sum(customer_trucks.xNumTrucks * customer_trucks.truck_capacity)\n",
    "    mdl.add_constraint(mdl.sum(group.xDeliver * group.size) <= truck_capacity, 'TruckCapacityC_{}'.format(customer))"
   ]
  },
  {
   "cell_type": "markdown",
   "metadata": {},
   "source": [
    "#### Truck availability constraint\n",
    "\n",
    "$$\n",
    "\\begin{align}\n",
    "\\sum\\limits_{\\forall c} xNumTrucks_{c,t} <= truckAvailability_t \\quad \\forall t \\in truckModels \\text{, with } c \\in customers\\\\\n",
    "\\end{align}\n",
    "$$"
   ]
  },
  {
   "cell_type": "code",
   "execution_count": 57,
   "metadata": {},
   "outputs": [],
   "source": [
    "for truck_model, group in customer_truck.groupby('truck_model'):\n",
    "    truck_availability = trucks_df.at[truck_model, 'availability']\n",
    "    mdl.add_constraint(mdl.sum(group.xNumTrucks) <= truck_availability, 'TruckAvailabilityC_{}'.format(customer))"
   ]
  },
  {
   "cell_type": "markdown",
   "metadata": {},
   "source": [
    "## Step 5: Solve\n",
    "* log_output shows cplex log\n",
    "* Always add a timelimit in case of unexpected very long solves"
   ]
  },
  {
   "cell_type": "code",
   "execution_count": 58,
   "metadata": {},
   "outputs": [
    {
     "name": "stdout",
     "output_type": "stream",
     "text": [
      "Version identifier: 12.10.0.0 | 2019-11-26 | 843d4de\n",
      "CPXPARAM_Read_DataCheck                          1\n",
      "CPXPARAM_RandomSeed                              201903125\n",
      "CPXPARAM_TimeLimit                               30\n",
      "Found incumbent of value 0.000000 after 0.00 sec. (0.00 ticks)\n",
      "Tried aggregator 1 time.\n",
      "MIP Presolve eliminated 3 rows and 0 columns.\n",
      "Reduced MIP has 13 rows, 60 columns, and 90 nonzeros.\n",
      "Reduced MIP has 0 binaries, 20 generals, 0 SOSs, and 0 indicators.\n",
      "Presolve time = 0.00 sec. (0.05 ticks)\n",
      "Tried aggregator 1 time.\n",
      "Detecting symmetries...\n",
      "Reduced MIP has 13 rows, 60 columns, and 90 nonzeros.\n",
      "Reduced MIP has 0 binaries, 20 generals, 0 SOSs, and 0 indicators.\n",
      "Presolve time = 0.00 sec. (0.06 ticks)\n",
      "MIP emphasis: balance optimality and feasibility.\n",
      "MIP search method: dynamic search.\n",
      "Parallel mode: deterministic, using up to 32 threads.\n",
      "Root relaxation solution time = 0.00 sec. (0.06 ticks)\n",
      "\n",
      "        Nodes                                         Cuts/\n",
      "   Node  Left     Objective  IInf  Best Integer    Best Bound    ItCnt     Gap\n",
      "\n",
      "*     0+    0                            0.0000     3528.7000              --- \n",
      "*     0+    0                         2270.1500     3528.7000            55.44%\n",
      "      0     0     3065.9000    11     2270.1500     3065.9000       28   35.05%\n",
      "*     0+    0                         2840.3000     3065.9000             7.94%\n",
      "*     0+    0                         2848.3000     3065.9000             7.64%\n",
      "      0     0     3065.9000    11     2848.3000      Cuts: 13       40    7.64%\n",
      "*     0+    0                         3014.9000     3065.9000             1.69%\n",
      "      0     0     3065.9000    11     3014.9000       Cuts: 7       46    1.69%\n",
      "      0     0     3065.9000    11     3014.9000    MIRcuts: 3       50    1.69%\n",
      "*     0+    0                         3038.9000     3065.9000             0.89%\n",
      "*     0+    0                         3052.4000     3065.9000             0.44%\n",
      "      0     2     3065.9000     7     3052.4000     3065.9000       50    0.44%\n",
      "Elapsed time = 5.27 sec. (1.16 ticks, tree = 0.02 MB, solutions = 7)\n",
      "*    26     7      integral     0     3065.9000     3065.9000       96    0.00%\n",
      "\n",
      "Mixed integer rounding cuts applied:  14\n",
      "\n",
      "Root node processing (before b&c):\n",
      "  Real time             =    4.38 sec. (1.14 ticks)\n",
      "Parallel b&c, 32 threads:\n",
      "  Real time             =    4.40 sec. (0.48 ticks)\n",
      "  Sync time (average)   =    3.51 sec.\n",
      "  Wait time (average)   =    0.00 sec.\n",
      "                          ------------\n",
      "Total (root+branch&cut) =    8.78 sec. (1.62 ticks)\n",
      "* model CPG_Distribution solved with objective = 3065.900\n",
      "*  KPI: Margin         = 3096.100\n",
      "*  KPI: Transportation = 302.000\n"
     ]
    }
   ],
   "source": [
    "msol = mdl.solve(log_output=True, cplex_parameters = {'timelimit':30})\n",
    "if msol is not None:\n",
    "    mdl.report()"
   ]
  },
  {
   "cell_type": "code",
   "execution_count": 59,
   "metadata": {},
   "outputs": [
    {
     "name": "stdout",
     "output_type": "stream",
     "text": [
      "objective: 3065.900\n",
      "  xDeliver_household_supplies_Store01=520.000\n",
      "  xDeliver_household_supplies_Store03=700.000\n",
      "  xDeliver_household_supplies_Store04=600.000\n",
      "  xDeliver_household_supplies_Store05=800.000\n",
      "  xDeliver_household_supplies_Store06=850.000\n",
      "  xDeliver_household_supplies_Store07=660.000\n",
      "  xDeliver_household_supplies_Store08=500.000\n",
      "  xDeliver_household_supplies_Store09=600.000\n",
      "  xDeliver_household_supplies_Store10=770.000\n",
      "  xDeliver_packaged_goods_Store01=900.000\n",
      "  xDeliver_packaged_goods_Store02=500.000\n",
      "  xDeliver_packaged_goods_Store03=700.000\n",
      "  xDeliver_packaged_goods_Store04=900.000\n",
      "  xDeliver_packaged_goods_Store05=600.000\n",
      "  xDeliver_packaged_goods_Store06=650.000\n",
      "  xDeliver_packaged_goods_Store07=770.000\n",
      "  xDeliver_packaged_goods_Store08=700.000\n",
      "  xDeliver_packaged_goods_Store09=900.000\n",
      "  xDeliver_packaged_goods_Store10=300.000\n",
      "  xDeliver_personal_care_Store01=267.500\n",
      "  xDeliver_personal_care_Store02=662.500\n",
      "  xDeliver_personal_care_Store03=550.000\n",
      "  xDeliver_personal_care_Store04=187.500\n",
      "  xDeliver_personal_care_Store05=440.000\n",
      "  xDeliver_personal_care_Store06=370.000\n",
      "  xDeliver_personal_care_Store07=510.000\n",
      "  xDeliver_personal_care_Store08=317.500\n",
      "  xDeliver_personal_care_Store09=187.500\n",
      "  xDeliver_personal_care_Store10=192.500\n",
      "  xDeliver_snacks_Store01=500.000\n",
      "  xDeliver_snacks_Store02=400.000\n",
      "  xDeliver_snacks_Store03=550.000\n",
      "  xDeliver_snacks_Store04=500.000\n",
      "  xDeliver_snacks_Store05=660.000\n",
      "  xDeliver_snacks_Store06=630.000\n",
      "  xDeliver_snacks_Store07=560.000\n",
      "  xDeliver_snacks_Store08=670.000\n",
      "  xDeliver_snacks_Store09=500.000\n",
      "  xDeliver_snacks_Store10=300.000\n",
      "  xNumTrucks_Store01_Straight_truck=1\n",
      "  xNumTrucks_Store01_Dryvan_trailer53=1\n",
      "  xNumTrucks_Store02_Dryvan_trailer53=1\n",
      "  xNumTrucks_Store03_Straight_truck=4\n",
      "  xNumTrucks_Store04_Straight_truck=1\n",
      "  xNumTrucks_Store04_Dryvan_trailer53=1\n",
      "  xNumTrucks_Store05_Straight_truck=4\n",
      "  xNumTrucks_Store06_Straight_truck=4\n",
      "  xNumTrucks_Store07_Straight_truck=4\n",
      "  xNumTrucks_Store08_Straight_truck=1\n",
      "  xNumTrucks_Store08_Dryvan_trailer53=1\n",
      "  xNumTrucks_Store09_Straight_truck=1\n",
      "  xNumTrucks_Store09_Dryvan_trailer53=1\n",
      "  xNumTrucks_Store10_Dryvan_trailer53=1\n"
     ]
    }
   ],
   "source": [
    "if msol is not None:\n",
    "    mdl.print_solution()"
   ]
  },
  {
   "cell_type": "markdown",
   "metadata": {},
   "source": [
    "## Step 6:  Extract solution"
   ]
  },
  {
   "cell_type": "code",
   "execution_count": 60,
   "metadata": {},
   "outputs": [
    {
     "data": {
      "text/html": [
       "<div>\n",
       "<style scoped>\n",
       "    .dataframe tbody tr th:only-of-type {\n",
       "        vertical-align: middle;\n",
       "    }\n",
       "\n",
       "    .dataframe tbody tr th {\n",
       "        vertical-align: top;\n",
       "    }\n",
       "\n",
       "    .dataframe thead th {\n",
       "        text-align: right;\n",
       "    }\n",
       "</style>\n",
       "<table border=\"1\" class=\"dataframe\">\n",
       "  <thead>\n",
       "    <tr style=\"text-align: right;\">\n",
       "      <th></th>\n",
       "      <th></th>\n",
       "      <th>demand</th>\n",
       "      <th>margin</th>\n",
       "      <th>size</th>\n",
       "      <th>planned_delivery</th>\n",
       "    </tr>\n",
       "    <tr>\n",
       "      <th>product</th>\n",
       "      <th>customer</th>\n",
       "      <th></th>\n",
       "      <th></th>\n",
       "      <th></th>\n",
       "      <th></th>\n",
       "    </tr>\n",
       "  </thead>\n",
       "  <tbody>\n",
       "    <tr>\n",
       "      <th rowspan=\"5\" valign=\"top\">household_supplies</th>\n",
       "      <th>Store01</th>\n",
       "      <td>600</td>\n",
       "      <td>0.12</td>\n",
       "      <td>1.0</td>\n",
       "      <td>520.0</td>\n",
       "    </tr>\n",
       "    <tr>\n",
       "      <th>Store02</th>\n",
       "      <td>900</td>\n",
       "      <td>0.12</td>\n",
       "      <td>1.0</td>\n",
       "      <td>0.0</td>\n",
       "    </tr>\n",
       "    <tr>\n",
       "      <th>Store03</th>\n",
       "      <td>700</td>\n",
       "      <td>0.12</td>\n",
       "      <td>1.0</td>\n",
       "      <td>700.0</td>\n",
       "    </tr>\n",
       "    <tr>\n",
       "      <th>Store04</th>\n",
       "      <td>600</td>\n",
       "      <td>0.12</td>\n",
       "      <td>1.0</td>\n",
       "      <td>600.0</td>\n",
       "    </tr>\n",
       "    <tr>\n",
       "      <th>Store05</th>\n",
       "      <td>800</td>\n",
       "      <td>0.12</td>\n",
       "      <td>1.0</td>\n",
       "      <td>800.0</td>\n",
       "    </tr>\n",
       "  </tbody>\n",
       "</table>\n",
       "</div>"
      ],
      "text/plain": [
       "                             demand  margin  size  planned_delivery\n",
       "product            customer                                        \n",
       "household_supplies Store01      600    0.12   1.0             520.0\n",
       "                   Store02      900    0.12   1.0               0.0\n",
       "                   Store03      700    0.12   1.0             700.0\n",
       "                   Store04      600    0.12   1.0             600.0\n",
       "                   Store05      800    0.12   1.0             800.0"
      ]
     },
     "execution_count": 60,
     "metadata": {},
     "output_type": "execute_result"
    }
   ],
   "source": [
    "demand_margin['planned_delivery'] = [dvar.solution_value for dvar in demand_margin.xDeliver]\n",
    "demand_margin_output = demand_margin.drop(columns=['xDeliver'])\n",
    "demand_margin_output.head()"
   ]
  },
  {
   "cell_type": "code",
   "execution_count": 61,
   "metadata": {},
   "outputs": [
    {
     "data": {
      "text/html": [
       "<div>\n",
       "<style scoped>\n",
       "    .dataframe tbody tr th:only-of-type {\n",
       "        vertical-align: middle;\n",
       "    }\n",
       "\n",
       "    .dataframe tbody tr th {\n",
       "        vertical-align: top;\n",
       "    }\n",
       "\n",
       "    .dataframe thead th {\n",
       "        text-align: right;\n",
       "    }\n",
       "</style>\n",
       "<table border=\"1\" class=\"dataframe\">\n",
       "  <thead>\n",
       "    <tr style=\"text-align: right;\">\n",
       "      <th></th>\n",
       "      <th></th>\n",
       "      <th>truck_capacity</th>\n",
       "      <th>truck_cost</th>\n",
       "      <th>num_trucks</th>\n",
       "    </tr>\n",
       "    <tr>\n",
       "      <th>customer</th>\n",
       "      <th>truck_model</th>\n",
       "      <th></th>\n",
       "      <th></th>\n",
       "      <th></th>\n",
       "    </tr>\n",
       "  </thead>\n",
       "  <tbody>\n",
       "    <tr>\n",
       "      <th rowspan=\"2\" valign=\"top\">Store01</th>\n",
       "      <th>Straight_truck</th>\n",
       "      <td>10000</td>\n",
       "      <td>10</td>\n",
       "      <td>1.0</td>\n",
       "    </tr>\n",
       "    <tr>\n",
       "      <th>Dryvan_trailer53</th>\n",
       "      <td>25000</td>\n",
       "      <td>17</td>\n",
       "      <td>1.0</td>\n",
       "    </tr>\n",
       "    <tr>\n",
       "      <th rowspan=\"2\" valign=\"top\">Store02</th>\n",
       "      <th>Straight_truck</th>\n",
       "      <td>10000</td>\n",
       "      <td>10</td>\n",
       "      <td>0.0</td>\n",
       "    </tr>\n",
       "    <tr>\n",
       "      <th>Dryvan_trailer53</th>\n",
       "      <td>25000</td>\n",
       "      <td>17</td>\n",
       "      <td>1.0</td>\n",
       "    </tr>\n",
       "    <tr>\n",
       "      <th>Store03</th>\n",
       "      <th>Straight_truck</th>\n",
       "      <td>10000</td>\n",
       "      <td>10</td>\n",
       "      <td>4.0</td>\n",
       "    </tr>\n",
       "  </tbody>\n",
       "</table>\n",
       "</div>"
      ],
      "text/plain": [
       "                           truck_capacity  truck_cost  num_trucks\n",
       "customer truck_model                                             \n",
       "Store01  Straight_truck             10000          10         1.0\n",
       "         Dryvan_trailer53           25000          17         1.0\n",
       "Store02  Straight_truck             10000          10         0.0\n",
       "         Dryvan_trailer53           25000          17         1.0\n",
       "Store03  Straight_truck             10000          10         4.0"
      ]
     },
     "execution_count": 61,
     "metadata": {},
     "output_type": "execute_result"
    }
   ],
   "source": [
    "customer_truck['num_trucks'] = [dvar.solution_value for dvar in customer_truck.xNumTrucks]\n",
    "customer_truck_output = customer_truck.drop(columns=['xNumTrucks'])\n",
    "customer_truck_output.head()"
   ]
  },
  {
   "cell_type": "markdown",
   "metadata": {},
   "source": [
    "## Step 7: Post processing<br>\n",
    "Compute backlog. Because we extracted the solution in a column, we can do vector operations on it."
   ]
  },
  {
   "cell_type": "code",
   "execution_count": 62,
   "metadata": {},
   "outputs": [
    {
     "data": {
      "text/html": [
       "<div>\n",
       "<style scoped>\n",
       "    .dataframe tbody tr th:only-of-type {\n",
       "        vertical-align: middle;\n",
       "    }\n",
       "\n",
       "    .dataframe tbody tr th {\n",
       "        vertical-align: top;\n",
       "    }\n",
       "\n",
       "    .dataframe thead th {\n",
       "        text-align: right;\n",
       "    }\n",
       "</style>\n",
       "<table border=\"1\" class=\"dataframe\">\n",
       "  <thead>\n",
       "    <tr style=\"text-align: right;\">\n",
       "      <th></th>\n",
       "      <th></th>\n",
       "      <th>demand</th>\n",
       "      <th>margin</th>\n",
       "      <th>size</th>\n",
       "      <th>planned_delivery</th>\n",
       "      <th>backlog</th>\n",
       "    </tr>\n",
       "    <tr>\n",
       "      <th>product</th>\n",
       "      <th>customer</th>\n",
       "      <th></th>\n",
       "      <th></th>\n",
       "      <th></th>\n",
       "      <th></th>\n",
       "      <th></th>\n",
       "    </tr>\n",
       "  </thead>\n",
       "  <tbody>\n",
       "    <tr>\n",
       "      <th rowspan=\"5\" valign=\"top\">household_supplies</th>\n",
       "      <th>Store01</th>\n",
       "      <td>600</td>\n",
       "      <td>0.12</td>\n",
       "      <td>1.0</td>\n",
       "      <td>520.0</td>\n",
       "      <td>80.0</td>\n",
       "    </tr>\n",
       "    <tr>\n",
       "      <th>Store02</th>\n",
       "      <td>900</td>\n",
       "      <td>0.12</td>\n",
       "      <td>1.0</td>\n",
       "      <td>0.0</td>\n",
       "      <td>900.0</td>\n",
       "    </tr>\n",
       "    <tr>\n",
       "      <th>Store03</th>\n",
       "      <td>700</td>\n",
       "      <td>0.12</td>\n",
       "      <td>1.0</td>\n",
       "      <td>700.0</td>\n",
       "      <td>0.0</td>\n",
       "    </tr>\n",
       "    <tr>\n",
       "      <th>Store04</th>\n",
       "      <td>600</td>\n",
       "      <td>0.12</td>\n",
       "      <td>1.0</td>\n",
       "      <td>600.0</td>\n",
       "      <td>0.0</td>\n",
       "    </tr>\n",
       "    <tr>\n",
       "      <th>Store05</th>\n",
       "      <td>800</td>\n",
       "      <td>0.12</td>\n",
       "      <td>1.0</td>\n",
       "      <td>800.0</td>\n",
       "      <td>0.0</td>\n",
       "    </tr>\n",
       "  </tbody>\n",
       "</table>\n",
       "</div>"
      ],
      "text/plain": [
       "                             demand  margin  size  planned_delivery  backlog\n",
       "product            customer                                                 \n",
       "household_supplies Store01      600    0.12   1.0             520.0     80.0\n",
       "                   Store02      900    0.12   1.0               0.0    900.0\n",
       "                   Store03      700    0.12   1.0             700.0      0.0\n",
       "                   Store04      600    0.12   1.0             600.0      0.0\n",
       "                   Store05      800    0.12   1.0             800.0      0.0"
      ]
     },
     "execution_count": 62,
     "metadata": {},
     "output_type": "execute_result"
    }
   ],
   "source": [
    "demand_margin_output['backlog'] = (demand_margin_output.demand - demand_margin_output.planned_delivery).clip(lower=0)\n",
    "demand_margin_output.head()"
   ]
  },
  {
   "cell_type": "markdown",
   "metadata": {},
   "source": [
    "## Step 8: Export lp file"
   ]
  },
  {
   "cell_type": "code",
   "execution_count": 63,
   "metadata": {},
   "outputs": [
    {
     "data": {
      "text/plain": [
       "'CPG.lp'"
      ]
     },
     "execution_count": 63,
     "metadata": {},
     "output_type": "execute_result"
    }
   ],
   "source": [
    "mdl.export_as_lp('CPG.lp')"
   ]
  },
  {
   "cell_type": "code",
   "execution_count": 65,
   "metadata": {},
   "outputs": [
    {
     "data": {
      "text/plain": [
       "'/home/wsuser/work/project_git_repo/HandonLabWSP/assets/jupyterlab'"
      ]
     },
     "execution_count": 65,
     "metadata": {},
     "output_type": "execute_result"
    }
   ],
   "source": [
    "import os\n",
    "os.path\n",
    "current_path = os.getcwd()\n",
    "current_path"
   ]
  },
  {
   "cell_type": "raw",
   "metadata": {},
   "source": [
    "#### To read CPG.lp file\n",
    "\n",
    "\n",
    "#dd-ignore\n",
    "with open (current_path + \"/CPG.lp\", \"r\") as myfile:\n",
    "    for line in myfile:\n",
    "        print (line.strip())"
   ]
  },
  {
   "cell_type": "markdown",
   "metadata": {},
   "source": [
    "## Step 9: Write to csv\n",
    "See next step in tutorial: reading inputs from csv"
   ]
  },
  {
   "cell_type": "markdown",
   "metadata": {},
   "source": [
    "Write parameters to parameter table, so we can use it as an input"
   ]
  },
  {
   "cell_type": "code",
   "execution_count": 69,
   "metadata": {},
   "outputs": [
    {
     "data": {
      "text/html": [
       "<div>\n",
       "<style scoped>\n",
       "    .dataframe tbody tr th:only-of-type {\n",
       "        vertical-align: middle;\n",
       "    }\n",
       "\n",
       "    .dataframe tbody tr th {\n",
       "        vertical-align: top;\n",
       "    }\n",
       "\n",
       "    .dataframe thead th {\n",
       "        text-align: right;\n",
       "    }\n",
       "</style>\n",
       "<table border=\"1\" class=\"dataframe\">\n",
       "  <thead>\n",
       "    <tr style=\"text-align: right;\">\n",
       "      <th></th>\n",
       "      <th>value</th>\n",
       "    </tr>\n",
       "    <tr>\n",
       "      <th>param</th>\n",
       "      <th></th>\n",
       "    </tr>\n",
       "  </thead>\n",
       "  <tbody>\n",
       "    <tr>\n",
       "      <th>truck_capacity</th>\n",
       "      <td>1000</td>\n",
       "    </tr>\n",
       "  </tbody>\n",
       "</table>\n",
       "</div>"
      ],
      "text/plain": [
       "                value\n",
       "param                \n",
       "truck_capacity   1000"
      ]
     },
     "execution_count": 69,
     "metadata": {},
     "output_type": "execute_result"
    }
   ],
   "source": [
    "params = pd.DataFrame([{'param': 'truck_capacity', 'value': 1000}]).set_index('param')\n",
    "params"
   ]
  },
  {
   "cell_type": "code",
   "execution_count": 70,
   "metadata": {},
   "outputs": [],
   "source": [
    "demand.to_csv('/home/wsuser/work/project_data_assets/data_asset/Demand.csv')\n",
    "inventory.to_csv('/home/wsuser/work/project_data_assets/data_asset/Inventory.csv')\n",
    "product_margin.to_csv('/home/wsuser/work/project_data_assets/data_asset/Margin.csv')\n",
    "trucks_df.to_csv('/home/wsuser/work/project_data_assets/data_asset/Trucks.csv')\n",
    "params.to_csv('/home/wsuser/work/project_data_assets/data_asset/Parameters.csv')"
   ]
  }
 ],
 "metadata": {
  "kernelspec": {
   "display_name": "Python 3",
   "language": "python",
   "name": "python3"
  },
  "language_info": {
   "codemirror_mode": {
    "name": "ipython",
    "version": 3
   },
   "file_extension": ".py",
   "mimetype": "text/x-python",
   "name": "python",
   "nbconvert_exporter": "python",
   "pygments_lexer": "ipython3",
   "version": "3.7.7"
  }
 },
 "nbformat": 4,
 "nbformat_minor": 4
}
